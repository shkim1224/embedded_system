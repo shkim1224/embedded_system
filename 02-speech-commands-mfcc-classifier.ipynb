{
 "cells": [
  {
   "cell_type": "markdown",
   "metadata": {},
   "source": [
    "(tflite_p38) pip3 install tensorflow"
   ]
  },
  {
   "cell_type": "code",
   "execution_count": 1,
   "metadata": {},
   "outputs": [],
   "source": [
    "from os import listdir\n",
    "from os.path import isdir, join\n",
    "from tensorflow.keras import layers, models\n",
    "import numpy as np"
   ]
  },
  {
   "cell_type": "code",
   "execution_count": 3,
   "metadata": {},
   "outputs": [
    {
     "name": "stdout",
     "output_type": "stream",
     "text": [
      "['backward', 'bed', 'bird', 'cat', 'dog', 'down', 'eight', 'five', 'follow', 'forward', 'four', 'go', 'happy', 'house', 'learn', 'left', 'marvin', 'nine', 'no', 'off', 'on', 'one', 'right', 'seven', 'sheila', 'six', 'stop', 'three', 'tree', 'two', 'up', 'visual', 'wow', 'yes', 'zero']\n"
     ]
    }
   ],
   "source": [
    "# Create list of all targets (minus background noise)\n",
    "dataset_path = \"D:\\\\vsc_ws_voice_learning\\\\tflite-speech-recognition\\\\speech_commands_dataset\"\n",
    "all_targets = all_targets = [name for name in listdir(dataset_path) if isdir(join(dataset_path, name))]\n",
    "all_targets.remove('_background_noise_')\n",
    "print(all_targets)"
   ]
  },
  {
   "cell_type": "code",
   "execution_count": 4,
   "metadata": {},
   "outputs": [],
   "source": [
    "# Settings\n",
    "feature_sets_path = 'D:\\\\vsc_ws_voice_learning\\\\tflite-speech-recognition\\\\feature_sets_directory'\n",
    "feature_sets_filename = 'all_targets_mfcc_sets.npz'\n",
    "model_filename = 'wake_word_stop_model.h5'\n",
    "wake_word = 'stop'"
   ]
  },
  {
   "cell_type": "code",
   "execution_count": 5,
   "metadata": {},
   "outputs": [
    {
     "name": "stdout",
     "output_type": "stream",
     "text": [
      "['x_train', 'y_train', 'x_val', 'y_val', 'x_test', 'y_test']\n"
     ]
    }
   ],
   "source": [
    "# Load feature sets\n",
    "feature_sets = np.load(join(feature_sets_path, feature_sets_filename))\n",
    "print(feature_sets.files)"
   ]
  },
  {
   "cell_type": "code",
   "execution_count": 6,
   "metadata": {},
   "outputs": [],
   "source": [
    "# Assign feature sets\n",
    "x_train = feature_sets['x_train']\n",
    "y_train = feature_sets['y_train']\n",
    "x_val = feature_sets['x_val']\n",
    "y_val = feature_sets['y_val']\n",
    "x_test = feature_sets['x_test']\n",
    "y_test = feature_sets['y_test']"
   ]
  },
  {
   "cell_type": "code",
   "execution_count": 7,
   "metadata": {},
   "outputs": [
    {
     "name": "stdout",
     "output_type": "stream",
     "text": [
      "(77488, 16, 16)\n",
      "(9724, 16, 16)\n",
      "(9644, 16, 16)\n"
     ]
    }
   ],
   "source": [
    "# Look at tensor dimensions\n",
    "print(x_train.shape)\n",
    "print(x_val.shape)\n",
    "print(x_test.shape)"
   ]
  },
  {
   "cell_type": "code",
   "execution_count": 8,
   "metadata": {},
   "outputs": [
    {
     "name": "stdout",
     "output_type": "stream",
     "text": [
      "[10. 27. 11. ...  3. 23. 33.]\n"
     ]
    }
   ],
   "source": [
    "# Peek at labels\n",
    "print(y_val)"
   ]
  },
  {
   "cell_type": "code",
   "execution_count": 9,
   "metadata": {},
   "outputs": [],
   "source": [
    "# Convert ground truth arrays to one wake word (1) and 'other' (0)\n",
    "wake_word_index = all_targets.index(wake_word)\n",
    "y_train = np.equal(y_train, wake_word_index).astype('float64')\n",
    "y_val = np.equal(y_val, wake_word_index).astype('float64')\n",
    "y_test = np.equal(y_test, wake_word_index).astype('float64')"
   ]
  },
  {
   "cell_type": "code",
   "execution_count": 10,
   "metadata": {},
   "outputs": [
    {
     "name": "stdout",
     "output_type": "stream",
     "text": [
      "[0. 0. 0. ... 0. 0. 0.]\n"
     ]
    }
   ],
   "source": [
    "# Peek at labels after conversion\n",
    "print(y_val)"
   ]
  },
  {
   "cell_type": "code",
   "execution_count": 11,
   "metadata": {},
   "outputs": [
    {
     "name": "stdout",
     "output_type": "stream",
     "text": [
      "0.036404771698889345\n",
      "0.9635952283011107\n"
     ]
    }
   ],
   "source": [
    "# What percentage of 'stop' appear in validation labels\n",
    "print(sum(y_val) / len(y_val))\n",
    "print(1 - sum(y_val) / len(y_val))"
   ]
  },
  {
   "cell_type": "code",
   "execution_count": 12,
   "metadata": {},
   "outputs": [
    {
     "name": "stdout",
     "output_type": "stream",
     "text": [
      "(77488, 16, 16)\n"
     ]
    }
   ],
   "source": [
    "# View the dimensions of our input data\n",
    "print(x_train.shape)"
   ]
  },
  {
   "cell_type": "code",
   "execution_count": 13,
   "metadata": {},
   "outputs": [
    {
     "name": "stdout",
     "output_type": "stream",
     "text": [
      "(77488, 16, 16, 1)\n",
      "(9724, 16, 16, 1)\n",
      "(9644, 16, 16, 1)\n"
     ]
    }
   ],
   "source": [
    "# CNN for TF expects (batch, height, width, channels)\n",
    "# So we reshape the input tensors with a \"color\" channel of 1\n",
    "x_train = x_train.reshape(x_train.shape[0], \n",
    "                          x_train.shape[1], \n",
    "                          x_train.shape[2], \n",
    "                          1)\n",
    "x_val = x_val.reshape(x_val.shape[0], \n",
    "                      x_val.shape[1], \n",
    "                      x_val.shape[2], \n",
    "                      1)\n",
    "x_test = x_test.reshape(x_test.shape[0], \n",
    "                        x_test.shape[1], \n",
    "                        x_test.shape[2], \n",
    "                        1)\n",
    "print(x_train.shape)\n",
    "print(x_val.shape)\n",
    "print(x_test.shape)"
   ]
  },
  {
   "cell_type": "code",
   "execution_count": 14,
   "metadata": {},
   "outputs": [
    {
     "name": "stdout",
     "output_type": "stream",
     "text": [
      "(16, 16, 1)\n"
     ]
    }
   ],
   "source": [
    "# Input shape for CNN is size of MFCC of 1 sample\n",
    "sample_shape = x_test.shape[1:]\n",
    "print(sample_shape)"
   ]
  },
  {
   "cell_type": "code",
   "execution_count": 15,
   "metadata": {},
   "outputs": [],
   "source": [
    "# Build model\n",
    "# Based on: https://www.geeksforgeeks.org/python-image-classification-using-keras/\n",
    "model = models.Sequential()\n",
    "model.add(layers.Conv2D(32, \n",
    "                        (2, 2), \n",
    "                        activation='relu',\n",
    "                        input_shape=sample_shape))\n",
    "model.add(layers.MaxPooling2D(pool_size=(2, 2)))\n",
    "\n",
    "model.add(layers.Conv2D(32, (2, 2), activation='relu'))\n",
    "model.add(layers.MaxPooling2D(pool_size=(2, 2)))\n",
    "\n",
    "model.add(layers.Conv2D(64, (2, 2), activation='relu'))\n",
    "model.add(layers.MaxPooling2D(pool_size=(2, 2)))\n",
    "\n",
    "# Classifier\n",
    "model.add(layers.Flatten())\n",
    "model.add(layers.Dense(64, activation='relu'))\n",
    "model.add(layers.Dropout(0.5))\n",
    "model.add(layers.Dense(1, activation='sigmoid'))"
   ]
  },
  {
   "cell_type": "code",
   "execution_count": 16,
   "metadata": {},
   "outputs": [
    {
     "name": "stdout",
     "output_type": "stream",
     "text": [
      "Model: \"sequential\"\n",
      "_________________________________________________________________\n",
      " Layer (type)                Output Shape              Param #   \n",
      "=================================================================\n",
      " conv2d (Conv2D)             (None, 15, 15, 32)        160       \n",
      "                                                                 \n",
      " max_pooling2d (MaxPooling2D  (None, 7, 7, 32)         0         \n",
      " )                                                               \n",
      "                                                                 \n",
      " conv2d_1 (Conv2D)           (None, 6, 6, 32)          4128      \n",
      "                                                                 \n",
      " max_pooling2d_1 (MaxPooling  (None, 3, 3, 32)         0         \n",
      " 2D)                                                             \n",
      "                                                                 \n",
      " conv2d_2 (Conv2D)           (None, 2, 2, 64)          8256      \n",
      "                                                                 \n",
      " max_pooling2d_2 (MaxPooling  (None, 1, 1, 64)         0         \n",
      " 2D)                                                             \n",
      "                                                                 \n",
      " flatten (Flatten)           (None, 64)                0         \n",
      "                                                                 \n",
      " dense (Dense)               (None, 64)                4160      \n",
      "                                                                 \n",
      " dropout (Dropout)           (None, 64)                0         \n",
      "                                                                 \n",
      " dense_1 (Dense)             (None, 1)                 65        \n",
      "                                                                 \n",
      "=================================================================\n",
      "Total params: 16,769\n",
      "Trainable params: 16,769\n",
      "Non-trainable params: 0\n",
      "_________________________________________________________________\n"
     ]
    }
   ],
   "source": [
    "# Display model\n",
    "model.summary()"
   ]
  },
  {
   "cell_type": "code",
   "execution_count": 17,
   "metadata": {},
   "outputs": [],
   "source": [
    "# Add training parameters to model\n",
    "model.compile(loss='binary_crossentropy', \n",
    "              optimizer='rmsprop', \n",
    "              metrics=['acc'])"
   ]
  },
  {
   "cell_type": "code",
   "execution_count": 18,
   "metadata": {},
   "outputs": [
    {
     "name": "stdout",
     "output_type": "stream",
     "text": [
      "Epoch 1/30\n",
      "775/775 [==============================] - 5s 6ms/step - loss: 0.1173 - acc: 0.9653 - val_loss: 0.0903 - val_acc: 0.9708\n",
      "Epoch 2/30\n",
      "775/775 [==============================] - 5s 7ms/step - loss: 0.0771 - acc: 0.9761 - val_loss: 0.0579 - val_acc: 0.9823\n",
      "Epoch 3/30\n",
      "775/775 [==============================] - 5s 7ms/step - loss: 0.0659 - acc: 0.9798 - val_loss: 0.0531 - val_acc: 0.9840\n",
      "Epoch 4/30\n",
      "775/775 [==============================] - 5s 7ms/step - loss: 0.0603 - acc: 0.9817 - val_loss: 0.0531 - val_acc: 0.9831\n",
      "Epoch 5/30\n",
      "775/775 [==============================] - 5s 7ms/step - loss: 0.0576 - acc: 0.9825 - val_loss: 0.0567 - val_acc: 0.9840\n",
      "Epoch 6/30\n",
      "775/775 [==============================] - 5s 7ms/step - loss: 0.0564 - acc: 0.9835 - val_loss: 0.0638 - val_acc: 0.9816\n",
      "Epoch 7/30\n",
      "775/775 [==============================] - 5s 7ms/step - loss: 0.0585 - acc: 0.9834 - val_loss: 0.0505 - val_acc: 0.9864\n",
      "Epoch 8/30\n",
      "775/775 [==============================] - 5s 7ms/step - loss: 0.0592 - acc: 0.9832 - val_loss: 0.0520 - val_acc: 0.9851\n",
      "Epoch 9/30\n",
      "775/775 [==============================] - 5s 7ms/step - loss: 0.0599 - acc: 0.9837 - val_loss: 0.0732 - val_acc: 0.9796\n",
      "Epoch 10/30\n",
      "775/775 [==============================] - 5s 7ms/step - loss: 0.0607 - acc: 0.9832 - val_loss: 0.0495 - val_acc: 0.9857\n",
      "Epoch 11/30\n",
      "775/775 [==============================] - 5s 7ms/step - loss: 0.0596 - acc: 0.9834 - val_loss: 0.0525 - val_acc: 0.9862\n",
      "Epoch 12/30\n",
      "775/775 [==============================] - 5s 7ms/step - loss: 0.0619 - acc: 0.9833 - val_loss: 0.0709 - val_acc: 0.9875\n",
      "Epoch 13/30\n",
      "775/775 [==============================] - 5s 7ms/step - loss: 0.0615 - acc: 0.9837 - val_loss: 0.0729 - val_acc: 0.9851\n",
      "Epoch 14/30\n",
      "775/775 [==============================] - 5s 7ms/step - loss: 0.0627 - acc: 0.9833 - val_loss: 0.0669 - val_acc: 0.9850\n",
      "Epoch 15/30\n",
      "775/775 [==============================] - 5s 7ms/step - loss: 0.0642 - acc: 0.9829 - val_loss: 0.0999 - val_acc: 0.9791\n",
      "Epoch 16/30\n",
      "775/775 [==============================] - 5s 7ms/step - loss: 0.0607 - acc: 0.9834 - val_loss: 0.0819 - val_acc: 0.9842\n",
      "Epoch 17/30\n",
      "775/775 [==============================] - 5s 7ms/step - loss: 0.0661 - acc: 0.9833 - val_loss: 0.0527 - val_acc: 0.9845\n",
      "Epoch 18/30\n",
      "775/775 [==============================] - 5s 7ms/step - loss: 0.0636 - acc: 0.9827 - val_loss: 0.0598 - val_acc: 0.9871\n",
      "Epoch 19/30\n",
      "775/775 [==============================] - 5s 7ms/step - loss: 0.0629 - acc: 0.9828 - val_loss: 0.0615 - val_acc: 0.9859\n",
      "Epoch 20/30\n",
      "775/775 [==============================] - 5s 7ms/step - loss: 0.0661 - acc: 0.9827 - val_loss: 0.0509 - val_acc: 0.9879\n",
      "Epoch 21/30\n",
      "775/775 [==============================] - 5s 7ms/step - loss: 0.0663 - acc: 0.9834 - val_loss: 0.0450 - val_acc: 0.9876\n",
      "Epoch 22/30\n",
      "775/775 [==============================] - 5s 7ms/step - loss: 0.0613 - acc: 0.9834 - val_loss: 0.0515 - val_acc: 0.9855\n",
      "Epoch 23/30\n",
      "775/775 [==============================] - 5s 7ms/step - loss: 0.0620 - acc: 0.9834 - val_loss: 0.0535 - val_acc: 0.9839\n",
      "Epoch 24/30\n",
      "775/775 [==============================] - 5s 7ms/step - loss: 0.0600 - acc: 0.9832 - val_loss: 0.0523 - val_acc: 0.9831\n",
      "Epoch 25/30\n",
      "775/775 [==============================] - 5s 7ms/step - loss: 0.0665 - acc: 0.9827 - val_loss: 0.0673 - val_acc: 0.9788\n",
      "Epoch 26/30\n",
      "775/775 [==============================] - 5s 7ms/step - loss: 0.0606 - acc: 0.9835 - val_loss: 0.0562 - val_acc: 0.9825\n",
      "Epoch 27/30\n",
      "775/775 [==============================] - 5s 7ms/step - loss: 0.0673 - acc: 0.9831 - val_loss: 0.0450 - val_acc: 0.9863\n",
      "Epoch 28/30\n",
      "775/775 [==============================] - 5s 7ms/step - loss: 0.0630 - acc: 0.9836 - val_loss: 0.0633 - val_acc: 0.9825\n",
      "Epoch 29/30\n",
      "775/775 [==============================] - 5s 6ms/step - loss: 0.0634 - acc: 0.9835 - val_loss: 0.0566 - val_acc: 0.9859\n",
      "Epoch 30/30\n",
      "775/775 [==============================] - 5s 7ms/step - loss: 0.0626 - acc: 0.9836 - val_loss: 0.0511 - val_acc: 0.9853\n"
     ]
    }
   ],
   "source": [
    "# Train\n",
    "history = model.fit(x_train, \n",
    "                    y_train, \n",
    "                    epochs=30, \n",
    "                    batch_size=100, \n",
    "                    validation_data=(x_val, y_val))"
   ]
  },
  {
   "cell_type": "code",
   "execution_count": 19,
   "metadata": {},
   "outputs": [
    {
     "data": {
      "image/png": "[encoded data removed]",
      "text/plain": [
       "<Figure size 432x288 with 1 Axes>"
      ]
     },
     "metadata": {
      "needs_background": "light"
     },
     "output_type": "display_data"
    },
    {
     "data": {
      "image/png": "[encoded data removed]",
      "text/plain": [
       "<Figure size 432x288 with 1 Axes>"
      ]
     },
     "metadata": {
      "needs_background": "light"
     },
     "output_type": "display_data"
    }
   ],
   "source": [
    "# Plot results\n",
    "import matplotlib.pyplot as plt\n",
    "\n",
    "acc = history.history['acc']\n",
    "val_acc = history.history['val_acc']\n",
    "loss = history.history['loss']\n",
    "val_loss = history.history['val_loss']\n",
    "\n",
    "epochs = range(1, len(acc) + 1)\n",
    "\n",
    "plt.plot(epochs, acc, 'bo', label='Training acc')\n",
    "plt.plot(epochs, val_acc, 'b', label='Validation acc')\n",
    "plt.title('Training and validation accuracy')\n",
    "plt.legend()\n",
    "\n",
    "plt.figure()\n",
    "\n",
    "plt.plot(epochs, loss, 'bo', label='Training loss')\n",
    "plt.plot(epochs, val_loss, 'b', label='Validation loss')\n",
    "plt.title('Training and validation loss')\n",
    "plt.legend()\n",
    "\n",
    "plt.show()"
   ]
  },
  {
   "cell_type": "code",
   "execution_count": 20,
   "metadata": {},
   "outputs": [],
   "source": [
    "# Save the model as a file\n",
    "models.save_model(model, model_filename)"
   ]
  },
  {
   "cell_type": "code",
   "execution_count": 21,
   "metadata": {},
   "outputs": [
    {
     "name": "stdout",
     "output_type": "stream",
     "text": [
      "53\n",
      "59\n",
      "80\n",
      "103\n",
      "105\n",
      "114\n",
      "135\n",
      "141\n",
      "154\n",
      "161\n",
      "169\n",
      "229\n",
      "256\n",
      "260\n",
      "263\n",
      "273\n",
      "290\n",
      "336\n",
      "340\n",
      "384\n",
      "388\n",
      "417\n",
      "476\n",
      "487\n",
      "519\n",
      "532\n",
      "561\n",
      "574\n",
      "620\n",
      "667\n",
      "685\n",
      "698\n",
      "718\n",
      "724\n",
      "768\n",
      "801\n",
      "842\n",
      "868\n",
      "936\n",
      "956\n",
      "1028\n",
      "1070\n",
      "1075\n",
      "1131\n",
      "1132\n",
      "1145\n",
      "1175\n",
      "1191\n",
      "1202\n",
      "1222\n",
      "1224\n",
      "1229\n",
      "1263\n",
      "1280\n",
      "1283\n",
      "1297\n",
      "1322\n",
      "1353\n",
      "1402\n",
      "1418\n",
      "1424\n",
      "1441\n",
      "1448\n",
      "1450\n",
      "1472\n",
      "1508\n",
      "1523\n",
      "1533\n",
      "1576\n",
      "1592\n",
      "1609\n",
      "1611\n",
      "1652\n",
      "1684\n",
      "1703\n",
      "1704\n",
      "1706\n",
      "1731\n",
      "1752\n",
      "1775\n",
      "1791\n",
      "1815\n",
      "1839\n",
      "1850\n",
      "1907\n",
      "1950\n",
      "1964\n",
      "2028\n",
      "2036\n",
      "2049\n",
      "2077\n",
      "2134\n",
      "2148\n",
      "2149\n",
      "2195\n",
      "2228\n",
      "2246\n",
      "2314\n",
      "2354\n",
      "2379\n",
      "2397\n",
      "2412\n",
      "2486\n",
      "2494\n",
      "2508\n",
      "2517\n",
      "2520\n",
      "2527\n",
      "2553\n",
      "2586\n",
      "2636\n",
      "2658\n",
      "2663\n",
      "2707\n",
      "2738\n",
      "2751\n",
      "2787\n",
      "2802\n",
      "2805\n",
      "2848\n",
      "2856\n",
      "2867\n",
      "2869\n",
      "2880\n",
      "2933\n",
      "2948\n",
      "2949\n",
      "2951\n",
      "2971\n",
      "2992\n",
      "3027\n",
      "3066\n",
      "3124\n",
      "3158\n",
      "3159\n",
      "3174\n",
      "3191\n",
      "3204\n",
      "3211\n",
      "3217\n",
      "3233\n",
      "3251\n",
      "3271\n",
      "3288\n",
      "3335\n",
      "3353\n",
      "3395\n",
      "3418\n",
      "3434\n",
      "3464\n",
      "3465\n",
      "3468\n",
      "3474\n",
      "3520\n",
      "3576\n",
      "3601\n",
      "3615\n",
      "3738\n",
      "3815\n",
      "3816\n",
      "3886\n",
      "3938\n",
      "3977\n",
      "3981\n",
      "4031\n",
      "4082\n",
      "4158\n",
      "4175\n",
      "4198\n",
      "4245\n",
      "4259\n",
      "4309\n",
      "4342\n",
      "4346\n",
      "4351\n",
      "4414\n",
      "4425\n",
      "4444\n",
      "4492\n",
      "4516\n",
      "4544\n",
      "4554\n",
      "4570\n",
      "4601\n",
      "4673\n",
      "4756\n",
      "4761\n",
      "4797\n",
      "4815\n",
      "4817\n",
      "4905\n",
      "4908\n",
      "4952\n",
      "4996\n",
      "5012\n",
      "5035\n",
      "5107\n",
      "5113\n",
      "5231\n",
      "5254\n",
      "5278\n",
      "5292\n",
      "5315\n",
      "5360\n",
      "5370\n",
      "5372\n",
      "5416\n",
      "5421\n",
      "5424\n",
      "5462\n",
      "5482\n",
      "5487\n",
      "5543\n",
      "5607\n",
      "5629\n",
      "5668\n",
      "5692\n",
      "5694\n",
      "5719\n",
      "5737\n",
      "5767\n",
      "5771\n",
      "5784\n",
      "5810\n",
      "5841\n",
      "5850\n",
      "5875\n",
      "5897\n",
      "5906\n",
      "5926\n",
      "5933\n",
      "5972\n",
      "6028\n",
      "6045\n",
      "6115\n",
      "6130\n",
      "6141\n",
      "6180\n",
      "6237\n",
      "6248\n",
      "6267\n",
      "6307\n",
      "6314\n",
      "6317\n",
      "6335\n",
      "6339\n",
      "6384\n",
      "6420\n",
      "6426\n",
      "6465\n",
      "6497\n",
      "6514\n",
      "6527\n",
      "6575\n",
      "6613\n",
      "6615\n",
      "6641\n",
      "6719\n",
      "6723\n",
      "6733\n",
      "6740\n",
      "6827\n",
      "6848\n",
      "6892\n",
      "6940\n",
      "6974\n",
      "6990\n",
      "6992\n",
      "7000\n",
      "7034\n",
      "7057\n",
      "7066\n",
      "7075\n",
      "7088\n",
      "7099\n",
      "7176\n",
      "7189\n",
      "7202\n",
      "7207\n",
      "7232\n",
      "7269\n",
      "7294\n",
      "7304\n",
      "7309\n",
      "7416\n",
      "7477\n",
      "7511\n",
      "7560\n",
      "7575\n",
      "7581\n",
      "7607\n",
      "7622\n",
      "7643\n",
      "7690\n",
      "7692\n",
      "7694\n",
      "7754\n",
      "7806\n",
      "7810\n",
      "7814\n",
      "7833\n",
      "7877\n",
      "7889\n",
      "7958\n",
      "7972\n",
      "7984\n",
      "8114\n",
      "8123\n",
      "8154\n",
      "8155\n",
      "8185\n",
      "8188\n",
      "8238\n",
      "8262\n",
      "8283\n",
      "8326\n",
      "8327\n",
      "8352\n",
      "8371\n",
      "8377\n",
      "8429\n",
      "8445\n",
      "8450\n",
      "8465\n",
      "8481\n",
      "8510\n",
      "8553\n",
      "8569\n",
      "8611\n",
      "8621\n",
      "8662\n",
      "8663\n",
      "8697\n",
      "8720\n",
      "8735\n",
      "8756\n",
      "8780\n",
      "8787\n",
      "8803\n",
      "8805\n",
      "8839\n",
      "8849\n",
      "8851\n",
      "8862\n",
      "8863\n",
      "8887\n",
      "8924\n",
      "8960\n",
      "8980\n",
      "9060\n",
      "9115\n",
      "9162\n",
      "9179\n",
      "9183\n",
      "9186\n",
      "9211\n",
      "9262\n",
      "9281\n",
      "9325\n",
      "9340\n",
      "9469\n",
      "9485\n",
      "9488\n",
      "9506\n",
      "9510\n",
      "9585\n",
      "9626\n",
      "9634\n"
     ]
    }
   ],
   "source": [
    "# See which are 'stop'\n",
    "for idx, y in enumerate(y_test):\n",
    "    if y == 1:\n",
    "        print(idx)"
   ]
  },
  {
   "cell_type": "code",
   "execution_count": 22,
   "metadata": {},
   "outputs": [
    {
     "name": "stdout",
     "output_type": "stream",
     "text": [
      "Answer: 0.0  Prediction: [[4.9250375e-11]]\n",
      "Answer: 0.0  Prediction: [[6.4256665e-07]]\n",
      "Answer: 0.0  Prediction: [[0.00884172]]\n",
      "Answer: 1.0  Prediction: [[0.04275051]]\n",
      "Answer: 0.0  Prediction: [[3.8332887e-06]]\n",
      "Answer: 1.0  Prediction: [[0.00014016]]\n",
      "Answer: 0.0  Prediction: [[0.0020695]]\n",
      "Answer: 0.0  Prediction: [[0.]]\n",
      "Answer: 0.0  Prediction: [[2.7101161e-05]]\n",
      "Answer: 0.0  Prediction: [[2.3290049e-07]]\n"
     ]
    }
   ],
   "source": [
    "# TEST: Load model and run it against test set\n",
    "model = models.load_model(model_filename)\n",
    "for i in range(100, 110):\n",
    "    print('Answer:', y_test[i], ' Prediction:', model.predict(np.expand_dims(x_test[i], 0)))"
   ]
  },
  {
   "cell_type": "code",
   "execution_count": 23,
   "metadata": {},
   "outputs": [
    {
     "name": "stdout",
     "output_type": "stream",
     "text": [
      "302/302 [==============================] - 0s 1ms/step - loss: 0.0788 - acc: 0.9822\n"
     ]
    },
    {
     "data": {
      "text/plain": [
       "[0.0788053572177887, 0.9821650981903076]"
      ]
     },
     "execution_count": 23,
     "metadata": {},
     "output_type": "execute_result"
    }
   ],
   "source": [
    "# Evaluate model with test set\n",
    "model.evaluate(x=x_test, y=y_test)"
   ]
  },
  {
   "cell_type": "code",
   "execution_count": null,
   "metadata": {},
   "outputs": [],
   "source": []
  }
 ],
 "metadata": {
  "kernelspec": {
   "display_name": "Python 3",
   "language": "python",
   "name": "python3"
  },
  "language_info": {
   "codemirror_mode": {
    "name": "ipython",
    "version": 3
   },
   "file_extension": ".py",
   "mimetype": "text/x-python",
   "name": "python",
   "nbconvert_exporter": "python",
   "pygments_lexer": "ipython3",
   "version": "3.8.13"
  }
 },
 "nbformat": 4,
 "nbformat_minor": 2
}
